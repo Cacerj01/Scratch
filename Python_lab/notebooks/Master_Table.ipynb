{
 "cells": [
  {
   "cell_type": "markdown",
   "metadata": {},
   "source": [
    "_#Setea los archivos de entrada. En la versión final se les deberá pasar como argumento la ruta de entrada conteniendo los bam de DNA y RNA; además de la ruta de salida del proceso. "
   ]
  },
  {
   "cell_type": "code",
   "execution_count": 99,
   "metadata": {},
   "outputs": [
    {
     "name": "stdout",
     "output_type": "stream",
     "text": [
      "/mnt/linux/home/cacerj01/Scripts/Scratch/Python_lab/src/BAM/DNA/ASD_10011001_FGH.bam\t10011001\t10011001\n",
      "/mnt/linux/home/cacerj01/Scripts/Scratch/Python_lab/src/BAM/RNA/ASD_S0006_FGH.bam\t10011006\tNEWID\n",
      "/mnt/linux/home/cacerj01/Scripts/Scratch/Python_lab/src/BAM/RNA/ASD_S006_RNA_FGH.bam\t10011006\tNEWID\n",
      "/mnt/linux/home/cacerj01/Scripts/Scratch/Python_lab/src/BAM/DNA/ASD_S010_FGH.bam\t10011010\tNEWID\n",
      "/mnt/linux/home/cacerj01/Scripts/Scratch/Python_lab/src/BAM/DNA/ASD_S0011_FGH.bam\t10011011\tNEWID\n"
     ]
    }
   ],
   "source": [
    "f = open(\"/mnt/linux/home/cacerj01/Scripts/Scratch/Python_lab/src/Output/Control_Cambios_V2.txt\", \"r\")\n",
    "line = f.readline()\n",
    "while line:\n",
    "    line = \"\".join(line.split(\"\\n\"))\n",
    "    idstatus = line.split(\"\\t\")[-1]\n",
    "    if idstatus == \"NEWID\":\n",
    "        line2 = line.split(\"\\t\")[-2]\n",
    "        line2 = line2.split(\"/\")[-1]\n",
    "        id = line2.split(\"_\")[1]\n",
    "        id = \"\".join(id.split(\"-\"))\n",
    "        if len(id) == 4:\n",
    "            if id.startswith(\"S\") == True:\n",
    "                id = \"10011\".join(id.split(\"S\"))\n",
    "                print(line.split(\"\\t\")[0] + \"\\t\" + str(id) + \"\\t\"  + idstatus)\n",
    "            else:\n",
    "                id = ['1002', id]\n",
    "                id = \"\".join(id)\n",
    "                print(line.split(\"\\t\")[0] + \"\\t\" + str(id) + \"\\t\"  + idstatus)\n",
    "        elif len(id) == 6:\n",
    "            id = \"10011\".join(id.split(\"S00\"))\n",
    "            print(line.split(\"\\t\")[0] + \"\\t\" + str(id) + \"\\t\"  + idstatus)\n",
    "        elif len(id) == 8:\n",
    "            if [str(i) for i in str(id)][-4] == 0:\n",
    "                s = [int(i) for i in str(id)]\n",
    "                s[4] = '1'\n",
    "                id = \"\".join(map(str,s))\n",
    "                print(line.split(\"\\t\")[0] + \"\\t\" + str(id) + \"\\t\"  + idstatus)\n",
    "        elif len(id) == 9:\n",
    "            s = str(id)\n",
    "            id = int(s[-9]+s[2:])\n",
    "            print(line.split(\"\\t\")[0] + \"\\t\" + str(id) + \"\\t\"  + idstatus)\n",
    "        elif len(id) == 5:\n",
    "            if id.startswith(\"S0\") == True:\n",
    "                id = \"10011\".join(id.split(\"S0\"))\n",
    "                print(line.split(\"\\t\")[0] + \"\\t\" + str(id) + \"\\t\"  + idstatus)\n",
    "            else:\n",
    "                id = \"1002\".join(id.split(\"C\"))\n",
    "                print(line.split(\"\\t\")[0] + \"\\t\" + str(id) + \"\\t\"  + idstatus)\n",
    "    else:\n",
    "        print(line.split(\"\\t\")[0] + \"\\t\" + idstatus + \"\\t\"  + idstatus)\n",
    "        \n",
    "    line = f.readline()\n",
    "f.close()"
   ]
  },
  {
   "cell_type": "code",
   "execution_count": 69,
   "metadata": {},
   "outputs": [
    {
     "name": "stdout",
     "output_type": "stream",
     "text": [
      "Funciona\n"
     ]
    }
   ],
   "source": [
    "string = \"Sol\"\n",
    "if string.startswith(\"S\") == True:\n",
    "    print(\"Funciona\")\n",
    "else:\n",
    "    print(\"NoFunciona\")\n"
   ]
  },
  {
   "cell_type": "code",
   "execution_count": 93,
   "metadata": {},
   "outputs": [
    {
     "name": "stdout",
     "output_type": "stream",
     "text": [
      "/mnt/linux/home/cacerj01/Scripts/Scratch/Python_lab/src/BAM/DNA/ASD_2_FGH.bam\tNEWID\n",
      "\n",
      "/mnt/linux/home/cacerj01/Scripts/Scratch/Python_lab/src/BAM/DNA/ASD_S1001001_FGH.bam\tNEWID\n",
      "\n",
      "/mnt/linux/home/cacerj01/Scripts/Scratch/Python_lab/src/BAM/DNA/ASD_10011001_FGH.bam\t10011001\n",
      "\n",
      "/mnt/linux/home/cacerj01/Scripts/Scratch/Python_lab/src/BAM/DNA/ASD_1_FGH.bam\tNEWID\n",
      "\n",
      "/mnt/linux/home/cacerj01/Scripts/Scratch/Python_lab/src/BAM/DNA/ASD_10011002R2_FGH.bam\tNEWID\n",
      "\n",
      "/mnt/linux/home/cacerj01/Scripts/Scratch/Python_lab/src/BAM/RNA/ASD_3_FGH.bam\tNEWID\n",
      "\n",
      "/mnt/linux/home/cacerj01/Scripts/Scratch/Python_lab/src/BAM/RNA/ASD_4_FGH.bam\tNEWID\n",
      "\n",
      "/mnt/linux/home/cacerj01/Scripts/Scratch/Python_lab/src/BAM/RNA/ASD_1001-1005_FGH.bam\tNEWID\n",
      "\n",
      "/mnt/linux/home/cacerj01/Scripts/Scratch/Python_lab/src/BAM/RNA/ASD_S1006_FGH.bam\tNEWID\n",
      "\n",
      "/mnt/linux/home/cacerj01/Scripts/Scratch/Python_lab/src/BAM/RNA/ASD_7_RNA_FGH.bam\tNEWID\n",
      "\n",
      "/mnt/linux/home/cacerj01/Scripts/Scratch/Python_lab/src/BAM/RNA/ASD_7R2_RNA_FGH.bam\tNEWID\n",
      "\n",
      "/mnt/linux/home/cacerj01/Scripts/Scratch/Python_lab/src/BAM/RNA/ASD_1001-1008R1_FGH.bam\tNEWID\n",
      "\n",
      "/mnt/linux/home/cacerj01/Scripts/Scratch/Python_lab/src/BAM/RNA/ASD_S1006_RNA_FGH.bam\tNEWID\n",
      "\n",
      "/mnt/linux/home/cacerj01/Scripts/Scratch/Python_lab/src/BAM/DNA/ASD_S010_FGH.bam\tNEWID\n",
      "\n",
      "/mnt/linux/home/cacerj01/Scripts/Scratch/Python_lab/src/BAM/DNA/ASD_1011_FGH.bam\tNEWID\n",
      "\n"
     ]
    }
   ],
   "source": [
    "f = open(\"/mnt/linux/home/cacerj01/Scripts/Scratch/Python_lab/src/Output/Control_Cambios_V2.txt\", \"r\")\n",
    "line = f.readline()\n",
    "while line:\n",
    "    print(line)\n",
    "    line = f.readline()\n",
    "f.close()"
   ]
  },
  {
   "cell_type": "code",
   "execution_count": 86,
   "metadata": {},
   "outputs": [
    {
     "name": "stdout",
     "output_type": "stream",
     "text": [
      "SIPO\n",
      "10011023\n"
     ]
    }
   ],
   "source": [
    "id = 10010023\n",
    "if [int(i) for i in str(id)][-4] == 0:\n",
    "    s = [int(i) for i in str(id)]\n",
    "    s[4] = '1'\n",
    "    id = \"\".join(map(str,s))\n",
    "    print(id)"
   ]
  },
  {
   "cell_type": "code",
   "execution_count": 56,
   "metadata": {},
   "outputs": [
    {
     "name": "stdout",
     "output_type": "stream",
     "text": [
      "10021023\n"
     ]
    }
   ],
   "source": [
    "id = 100021023    #result must be 10021023\n",
    "s = str(id)\n",
    "id = int(s[-9]+s[2:])\n",
    "print(id)"
   ]
  },
  {
   "cell_type": "code",
   "execution_count": 77,
   "metadata": {},
   "outputs": [
    {
     "name": "stdout",
     "output_type": "stream",
     "text": [
      "/mnt/linux/home/cacerj01/Scripts/Scratch/Python_lab/src/BAM/RNA/ASD_S1006_RNA_FGH.bam\t10021003\n"
     ]
    }
   ],
   "source": [
    "line = [\"/mnt/linux/home/cacerj01/Scripts/Scratch/Python_lab/src/BAM/RNA/ASD_S1006_RNA_FGH.bam\", \"NEWID\"]\n",
    "id = 10021003\n",
    "line = \"\\t\".join(line)\n",
    "print(line.split(\"\\t\")[0] + \"\\t\" + str(id))"
   ]
  }
 ],
 "metadata": {
  "kernelspec": {
   "display_name": "Python 3",
   "language": "python",
   "name": "python3"
  },
  "language_info": {
   "codemirror_mode": {
    "name": "ipython",
    "version": 3
   },
   "file_extension": ".py",
   "mimetype": "text/x-python",
   "name": "python",
   "nbconvert_exporter": "python",
   "pygments_lexer": "ipython3",
   "version": "3.6.4"
  }
 },
 "nbformat": 4,
 "nbformat_minor": 2
}
